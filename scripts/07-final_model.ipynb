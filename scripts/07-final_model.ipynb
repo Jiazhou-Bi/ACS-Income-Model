{
 "cells": [
  {
   "cell_type": "code",
   "execution_count": null,
   "metadata": {},
   "outputs": [],
   "source": [
    "#### Preamble ####\n",
    "# Purpose: Train, evaluate, and save an XGBoost regression model to predict total income (`INCTOT`)\n",
    "#          based on various features in the dataset. The notebook includes steps for feature \n",
    "#          engineering and model evaluation.\n",
    "# Author: Jiazhou (Justin) Bi and Weiyang Li\n",
    "# Date: 5 October 2024\n",
    "# Contact: justin.bi@mail.utoronto.ca or weiyang.li@mail.utoronto.ca\n",
    "# License: MIT\n",
    "#\n",
    "# Pre-requisites:\n",
    "#  - Python 3.10.5 or above\n",
    "#  - Required Python libraries:\n",
    "#      - pandas\n",
    "#      - sklearn\n",
    "#      - xgboost\n",
    "#      - matplotlib\n",
    "#      - seaborn\n",
    "#      - joblib\n",
    "#  - A cleaned dataset (`cleaned_data.parquet`) must be available in the \n",
    "#    `../data/02-analysis_data/` directory.\n",
    "#\n",
    "# Additional Information:\n",
    "#  - The notebook performs the following steps:\n",
    "#      1. **Load the Cleaned Dataset**:\n",
    "#          - Data is loaded from `../data/02-analysis_data/cleaned_data.parquet`.\n",
    "#      2. **Feature Engineering**:\n",
    "#          - Interaction term created between `EDUC_new` (education level) and `SEX` (gender).\n",
    "#      3. **Data Preprocessing**:\n",
    "#          - Categorical features are encoded using `OrdinalEncoder`.\n",
    "#          - Numerical features are passed through without transformations.\n",
    "#      4. **Model Training and Evaluation**:\n",
    "#          - The XGBoost model is trained using a pipeline for preprocessing and regression.\n",
    "#          - Metrics such as Mean Squared Error (MSE), Root Mean Squared Error (RMSE), and R-squared\n",
    "#            are used for evaluation.\n",
    "#      5. **Model Saving and Loading**:\n",
    "#          - The trained pipeline is saved using `joblib` for future reuse.\n",
    "#          - Instructions for loading the saved model and making predictions are included.\n",
    "#\n",
    "# Limitations:\n",
    "#  - High RMSE values may indicate challenges in modeling due to data noise or unobserved variables.\n",
    "#  - Assumes all necessary preprocessing steps have been applied in the cleaned dataset.\n",
    "#\n",
    "# Usage:\n",
    "#  1. Run the notebook to train the XGBoost regression model.\n",
    "#  2. Save the model using the provided code for future use."
   ]
  },
  {
   "cell_type": "code",
   "execution_count": 2,
   "metadata": {},
   "outputs": [
    {
     "name": "stdout",
     "output_type": "stream",
     "text": [
      "MSE: 5854629848.133301\n",
      "RMSE: 76515.55298194806\n",
      "Model saved successfully!\n"
     ]
    }
   ],
   "source": [
    "# Load necessary libraries\n",
    "import pandas as pd\n",
    "from sklearn.model_selection import train_test_split\n",
    "from sklearn.compose import ColumnTransformer\n",
    "from sklearn.pipeline import Pipeline\n",
    "from sklearn.preprocessing import OrdinalEncoder\n",
    "from sklearn.metrics import mean_squared_error\n",
    "from xgboost import XGBRegressor\n",
    "import joblib\n",
    "\n",
    "# Load the cleaned dataset\n",
    "df = pd.read_parquet('../data/02-analysis_data/cleaned_data.parquet')\n",
    "df.head()\n",
    "\n",
    "# Feature engineering: Interaction term\n",
    "df['EDUC_SEX_INTERACTION'] = df['EDUC_new'] * df['SEX']\n",
    "\n",
    "# Define features and target\n",
    "X = df.drop(columns=['INCTOT'])\n",
    "y = df['INCTOT']\n",
    "\n",
    "# Define categorical and numerical features\n",
    "categorical_features = [\n",
    "    'MORTGAGE',\n",
    "    'SEX',\n",
    "    'MARST',\n",
    "    'EDUC_new',\n",
    "    'SCHLTYPE',\n",
    "    'IND1990',\n",
    "    'VETSTAT'\n",
    "]\n",
    "numerical_features = ['AGE']\n",
    "\n",
    "# Split the data into training and test sets\n",
    "X_train, X_test, y_train, y_test = train_test_split(X, y, test_size=0.3, random_state=210)\n",
    "\n",
    "# Preprocessor for handling categorical and numerical features\n",
    "preprocessor = ColumnTransformer(\n",
    "    transformers=[\n",
    "        ('cat', OrdinalEncoder(), categorical_features),\n",
    "        ('num', 'passthrough', numerical_features)\n",
    "    ])\n",
    "\n",
    "# Create the XGBoost pipeline\n",
    "xgb_pipeline = Pipeline(steps=[\n",
    "    ('preprocessor', preprocessor),\n",
    "    ('regressor', XGBRegressor(\n",
    "        learning_rate=0.1, \n",
    "        max_depth=6, \n",
    "        min_child_weight=5, \n",
    "        n_estimators=300, \n",
    "        random_state=210\n",
    "    ))\n",
    "])\n",
    "\n",
    "# Train the final model\n",
    "xgb_pipeline.fit(X_train, y_train)\n",
    "\n",
    "# Make predictions and evaluate\n",
    "y_pred = xgb_pipeline.predict(X_test)\n",
    "mse = mean_squared_error(y_test, y_pred)\n",
    "rmse = mse ** 0.5\n",
    "\n",
    "print(f'MSE: {mse}')\n",
    "print(f'RMSE: {rmse}')\n",
    "\n",
    "# Save the trained model\n",
    "joblib.dump(xgb_pipeline, '../models/final_xgb_model.pkl')\n",
    "print(\"Model saved successfully!\")"
   ]
  },
  {
   "cell_type": "code",
   "execution_count": 4,
   "metadata": {},
   "outputs": [
    {
     "name": "stdout",
     "output_type": "stream",
     "text": [
      "Predictions using the loaded model: [  8335.957  66796.97  101665.22   31009.086  73786.88 ]\n"
     ]
    }
   ],
   "source": [
    "# Load the saved model\n",
    "loaded_model = joblib.load('../models/final_xgb_model.pkl')\n",
    "\n",
    "# Make predictions using the loaded model\n",
    "y_pred_loaded = loaded_model.predict(X_test)\n",
    "\n",
    "# Confirm the predictions match\n",
    "print(f\"Predictions using the loaded model: {y_pred_loaded[:5]}\")\n"
   ]
  }
 ],
 "metadata": {
  "kernelspec": {
   "display_name": "Python 3",
   "language": "python",
   "name": "python3"
  },
  "language_info": {
   "codemirror_mode": {
    "name": "ipython",
    "version": 3
   },
   "file_extension": ".py",
   "mimetype": "text/x-python",
   "name": "python",
   "nbconvert_exporter": "python",
   "pygments_lexer": "ipython3",
   "version": "3.8.5"
  }
 },
 "nbformat": 4,
 "nbformat_minor": 2
}
