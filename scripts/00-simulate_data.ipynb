{
 "cells": [
  {
   "cell_type": "code",
   "execution_count": null,
   "metadata": {},
   "outputs": [],
   "source": [
    "#### Preamble ####\n",
    "# Purpose: Generate a simulated IPUMS USA dataset with similar\n",
    "#          characteristics to the real-world IPUMS USA data. This dataset\n",
    "#          will be used for testing, analysis, and development of data analysis\n",
    "#          methods in academic and research projects.\n",
    "# Author: Jiazhou(Justin) Bi and Weiyang Li\n",
    "# Date: 17 November 2024\n",
    "# Contact: justin.bi@mail.utoronto.ca or weiyang.li@mail.utoronto.ca\n",
    "# License: MIT\n",
    "# Pre-requisites:\n",
    "#  - Required Python libraries: pandas, numpy\n",
    "#  - Ensure the working directory has a 'data/simulated_data' folder\n",
    "#    for saving the data\n",
    "#  - Familiarity with IPUMS USA data structures and variables for context\n",
    "# Additional Information:\n",
    "#  - The dataset will include simulated fields such as state, ownership type,\n",
    "#    mortgage status, group quarters, gender, age, marital status, education,\n",
    "#    school type, occupation, veteran status, industry, and total income.\n",
    "#  - The data is purely simulated based on assumed distributions and ranges,\n",
    "#    mimicking the structure of real IPUMS USA data.\n",
    "#  - The dataset can be used to test analysis pipelines without access\n",
    "#    to sensitive real-world data."
   ]
  },
  {
   "cell_type": "code",
   "execution_count": null,
   "metadata": {},
   "outputs": [
    {
     "name": "stdout",
     "output_type": "stream",
     "text": [
      "   STATEICP  OWNERSHP  MORTGAGE  GQ  SEX  AGE  MARST  EDUC  SCHLTYPE  OCC2010  \\\n",
      "0        39         1         4   3    1   69      5    10         1      275   \n",
      "1        52         1         1   1    2   66      1     9         1      703   \n",
      "2        29         1         1   1    2   57      2     5         0      114   \n",
      "3        15         2         3   1    2   98      2     2         1      946   \n",
      "4        43         1         3   2    2   81      3     7         1      442   \n",
      "\n",
      "   VETSTAT  IND1990        INCTOT  \n",
      "0        2      129  23598.456245  \n",
      "1        2      965  45224.947959  \n",
      "2        1      262  75711.644687  \n",
      "3        0       69  48858.774171  \n",
      "4        1      275  52831.915735  \n"
     ]
    }
   ],
   "source": [
    "#### Workspace setup ####\n",
    "\n",
    "import pandas as pd\n",
    "import numpy as np\n",
    "\n",
    "# Set a random seed for reproducibility\n",
    "np.random.seed(42)\n",
    "\n",
    "# Number of records to simulate\n",
    "n_records = 1000\n",
    "\n",
    "#### Simulate data ####\n",
    "\n",
    "# Simulate the dataset\n",
    "data = pd.DataFrame({\n",
    "    'STATEICP': np.random.choice(range(1, 57), size=n_records),  # Assuming 56 state codes including territories\n",
    "    'OWNERSHP': np.random.choice([1, 2], size=n_records, p=[0.65, 0.35]),\n",
    "    'MORTGAGE': np.random.choice([1, 2, 3, 4], size=n_records, p=[0.2, 0.3, 0.4, 0.1]),\n",
    "    'GQ': np.random.choice([1, 2, 3, 5], size=n_records, p=[0.7, 0.1, 0.15, 0.05]),\n",
    "    'SEX': np.random.choice([1, 2, 9], size=n_records, p=[0.48, 0.48, 0.04]),\n",
    "    'AGE': np.random.randint(0, 100, size=n_records),\n",
    "    'MARST': np.random.choice([1, 2, 3, 4, 5, 6], size=n_records, p=[0.25, 0.25, 0.2, 0.15, 0.1, 0.05]),\n",
    "    'EDUC': np.random.choice(range(1, 12), size=n_records),  # Assuming education levels are 1-11\n",
    "    'SCHLTYPE': np.random.choice([0, 1, 2], size=n_records, p=[0.2, 0.7, 0.1]),\n",
    "    'OCC2010': np.random.choice(range(10, 1000), size=n_records),  # Occupational codes in range\n",
    "    'VETSTAT': np.random.choice([0, 1, 2, 9], size=n_records, p=[0.7, 0.2, 0.05, 0.05]),\n",
    "    'IND1990': np.random.choice(range(10, 1000), size=n_records),  # Industry codes in range\n",
    "    'INCTOT': np.random.normal(50000, 20000, size=n_records)  # Simulated income distribution\n",
    "})\n",
    "\n",
    "# Ensuring no negative incomes\n",
    "data['INCTOT'] = data['INCTOT'].clip(lower=0)\n",
    "\n",
    "# Display the first few rows of the simulated dataset\n",
    "print(data.head())\n",
    "\n",
    "# Save to a CSV file\n",
    "data.to_csv('../data/00-simulated_data/simulated_ipums_data.csv', index=False)\n"
   ]
  }
 ],
 "metadata": {
  "kernelspec": {
   "display_name": "Python 3",
   "language": "python",
   "name": "python3"
  },
  "language_info": {
   "codemirror_mode": {
    "name": "ipython",
    "version": 3
   },
   "file_extension": ".py",
   "mimetype": "text/x-python",
   "name": "python",
   "nbconvert_exporter": "python",
   "pygments_lexer": "ipython3",
   "version": "3.8.5"
  }
 },
 "nbformat": 4,
 "nbformat_minor": 2
}
