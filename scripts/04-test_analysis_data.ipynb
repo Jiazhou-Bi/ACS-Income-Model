{
 "cells": [
  {
   "cell_type": "code",
   "execution_count": 56,
   "metadata": {},
   "outputs": [],
   "source": [
    "#### Preamble ####\n",
    "# Purpose: Validate all of the variables found the dataset\n",
    "# Author: Jiazhou(Justin) Bi and Weiyang Li\n",
    "# Date: 7 October 2024\n",
    "# Contact: justin.bi@mail.utoronto.ca or weiyang.li@mail.utoronto.ca\n",
    "# License: MIT\n",
    "# Pre-requisites: python 3.10.5 or above, with pandas installed for python\n",
    "# Any other information needed? None"
   ]
  },
  {
   "cell_type": "markdown",
   "metadata": {},
   "source": [
    "# Loading the Dataset and Necessary Libraries "
   ]
  },
  {
   "cell_type": "code",
   "execution_count": 57,
   "metadata": {},
   "outputs": [
    {
     "data": {
      "text/html": [
       "<div>\n",
       "<style scoped>\n",
       "    .dataframe tbody tr th:only-of-type {\n",
       "        vertical-align: middle;\n",
       "    }\n",
       "\n",
       "    .dataframe tbody tr th {\n",
       "        vertical-align: top;\n",
       "    }\n",
       "\n",
       "    .dataframe thead th {\n",
       "        text-align: right;\n",
       "    }\n",
       "</style>\n",
       "<table border=\"1\" class=\"dataframe\">\n",
       "  <thead>\n",
       "    <tr style=\"text-align: right;\">\n",
       "      <th></th>\n",
       "      <th>STATEICP</th>\n",
       "      <th>GQ</th>\n",
       "      <th>OWNERSHP</th>\n",
       "      <th>MORTGAGE</th>\n",
       "      <th>SEX</th>\n",
       "      <th>AGE</th>\n",
       "      <th>MARST</th>\n",
       "      <th>EDUC</th>\n",
       "      <th>SCHLTYPE</th>\n",
       "      <th>OCC2010</th>\n",
       "      <th>INCTOT</th>\n",
       "      <th>VETSTAT</th>\n",
       "    </tr>\n",
       "  </thead>\n",
       "  <tbody>\n",
       "    <tr>\n",
       "      <th>0</th>\n",
       "      <td>41</td>\n",
       "      <td>3</td>\n",
       "      <td>0</td>\n",
       "      <td>0</td>\n",
       "      <td>2</td>\n",
       "      <td>85</td>\n",
       "      <td>5</td>\n",
       "      <td>7</td>\n",
       "      <td>1</td>\n",
       "      <td>9920</td>\n",
       "      <td>18800</td>\n",
       "      <td>1</td>\n",
       "    </tr>\n",
       "    <tr>\n",
       "      <th>1</th>\n",
       "      <td>41</td>\n",
       "      <td>3</td>\n",
       "      <td>0</td>\n",
       "      <td>0</td>\n",
       "      <td>1</td>\n",
       "      <td>51</td>\n",
       "      <td>5</td>\n",
       "      <td>6</td>\n",
       "      <td>1</td>\n",
       "      <td>5620</td>\n",
       "      <td>12500</td>\n",
       "      <td>1</td>\n",
       "    </tr>\n",
       "    <tr>\n",
       "      <th>2</th>\n",
       "      <td>41</td>\n",
       "      <td>3</td>\n",
       "      <td>0</td>\n",
       "      <td>0</td>\n",
       "      <td>2</td>\n",
       "      <td>36</td>\n",
       "      <td>6</td>\n",
       "      <td>2</td>\n",
       "      <td>1</td>\n",
       "      <td>8800</td>\n",
       "      <td>16400</td>\n",
       "      <td>1</td>\n",
       "    </tr>\n",
       "    <tr>\n",
       "      <th>3</th>\n",
       "      <td>41</td>\n",
       "      <td>4</td>\n",
       "      <td>0</td>\n",
       "      <td>0</td>\n",
       "      <td>1</td>\n",
       "      <td>74</td>\n",
       "      <td>6</td>\n",
       "      <td>0</td>\n",
       "      <td>1</td>\n",
       "      <td>9920</td>\n",
       "      <td>8600</td>\n",
       "      <td>1</td>\n",
       "    </tr>\n",
       "    <tr>\n",
       "      <th>4</th>\n",
       "      <td>41</td>\n",
       "      <td>3</td>\n",
       "      <td>0</td>\n",
       "      <td>0</td>\n",
       "      <td>1</td>\n",
       "      <td>49</td>\n",
       "      <td>4</td>\n",
       "      <td>7</td>\n",
       "      <td>1</td>\n",
       "      <td>6230</td>\n",
       "      <td>5000</td>\n",
       "      <td>2</td>\n",
       "    </tr>\n",
       "  </tbody>\n",
       "</table>\n",
       "</div>"
      ],
      "text/plain": [
       "   STATEICP  GQ  OWNERSHP  MORTGAGE  SEX  AGE  MARST  EDUC  SCHLTYPE  OCC2010  \\\n",
       "0        41   3         0         0    2   85      5     7         1     9920   \n",
       "1        41   3         0         0    1   51      5     6         1     5620   \n",
       "2        41   3         0         0    2   36      6     2         1     8800   \n",
       "3        41   4         0         0    1   74      6     0         1     9920   \n",
       "4        41   3         0         0    1   49      4     7         1     6230   \n",
       "\n",
       "   INCTOT  VETSTAT  \n",
       "0   18800        1  \n",
       "1   12500        1  \n",
       "2   16400        1  \n",
       "3    8600        1  \n",
       "4    5000        2  "
      ]
     },
     "execution_count": 57,
     "metadata": {},
     "output_type": "execute_result"
    }
   ],
   "source": [
    "import pandas as pd\n",
    "df = pd.read_csv('../data/02-analysis_data/cleaned_data.csv')\n",
    "df.head()"
   ]
  },
  {
   "cell_type": "markdown",
   "metadata": {},
   "source": [
    "# STATE"
   ]
  },
  {
   "cell_type": "code",
   "execution_count": 58,
   "metadata": {},
   "outputs": [
    {
     "data": {
      "text/plain": [
       "51"
      ]
     },
     "execution_count": 58,
     "metadata": {},
     "output_type": "execute_result"
    }
   ],
   "source": [
    "# Checking it there are only 50 states, plus 4 other \n",
    "unique_state = df['STATEICP'].nunique()\n",
    "unique_state"
   ]
  },
  {
   "cell_type": "code",
   "execution_count": 59,
   "metadata": {},
   "outputs": [
    {
     "data": {
      "text/plain": [
       "1      32037\n",
       "2      12708\n",
       "3      63066\n",
       "4      12263\n",
       "5       9073\n",
       "6       5966\n",
       "11      8335\n",
       "12     78826\n",
       "13    174579\n",
       "14    113239\n",
       "21    107426\n",
       "22     58022\n",
       "23     86387\n",
       "24    101651\n",
       "25     52297\n",
       "31     27999\n",
       "32     24784\n",
       "33     49031\n",
       "34     53938\n",
       "35     16514\n",
       "36      6645\n",
       "37      7567\n",
       "40     74844\n",
       "41     43783\n",
       "42     26300\n",
       "43    189646\n",
       "44     91841\n",
       "45     37932\n",
       "46     25023\n",
       "47     93101\n",
       "48     46515\n",
       "49    242939\n",
       "51     38947\n",
       "52     52416\n",
       "53     32310\n",
       "54     61037\n",
       "56     15557\n",
       "61     62814\n",
       "62     50668\n",
       "63     16119\n",
       "64      9337\n",
       "65     25908\n",
       "66     17236\n",
       "67     27800\n",
       "68      4992\n",
       "71    331423\n",
       "72     37475\n",
       "73     67872\n",
       "81      5548\n",
       "82     12750\n",
       "98      6016\n",
       "Name: STATEICP, dtype: int64"
      ]
     },
     "execution_count": 59,
     "metadata": {},
     "output_type": "execute_result"
    }
   ],
   "source": [
    "# Checking which values are missing from the variable\n",
    "missing_state = df['STATEICP'].value_counts().sort_index()\n",
    "missing_state\n",
    "# 96                  State groupings (1980 Urban/rural sample)\n",
    "# 97                  Military/Mil. Reservations\n",
    "# 99                  State not identified\n",
    "#The aboved entries are missing from the dataset. "
   ]
  },
  {
   "cell_type": "markdown",
   "metadata": {},
   "source": [
    "# GQ"
   ]
  },
  {
   "cell_type": "code",
   "execution_count": 60,
   "metadata": {},
   "outputs": [
    {
     "data": {
      "text/plain": [
       "1    2664493\n",
       "4      96405\n",
       "3      83119\n",
       "2       5213\n",
       "5       1272\n",
       "Name: GQ, dtype: int64"
      ]
     },
     "execution_count": 60,
     "metadata": {},
     "output_type": "execute_result"
    }
   ],
   "source": [
    "# There should be a maximum of 7 values for this variable (0 to 6)\n",
    "# 0                   Vacant unit\n",
    "#                     Households:\n",
    "# 1                   Households under 1970 definition\n",
    "# 2                   Additional households under 1990 definition\n",
    "#                     Group Quarters:\n",
    "# 3                   Group quarters--Institutions\n",
    "# 4                   Other group quarters\n",
    "# 5                   Additional households under 2000 definition\n",
    "# 6                   Fragment\n",
    "value_counts_GQ = df['GQ'].value_counts()\n",
    "value_counts_GQ\n",
    "#PASS"
   ]
  },
  {
   "cell_type": "markdown",
   "metadata": {},
   "source": [
    "# Ownership"
   ]
  },
  {
   "cell_type": "code",
   "execution_count": 61,
   "metadata": {},
   "outputs": [
    {
     "data": {
      "text/plain": [
       "1    2018514\n",
       "2     652464\n",
       "0     179524\n",
       "Name: OWNERSHP, dtype: int64"
      ]
     },
     "execution_count": 61,
     "metadata": {},
     "output_type": "execute_result"
    }
   ],
   "source": [
    "# A maximum of 3 values of OWNERSHP\n",
    "# OWNERSHP            Ownership of dwelling (tenure) [general version]\n",
    "# 0                   N/A\n",
    "# 1                   Owned or being bought (loan)\n",
    "# 2                   Rented\n",
    "value_counts_OWNERSHP = df['OWNERSHP'].value_counts()\n",
    "value_counts_OWNERSHP"
   ]
  },
  {
   "cell_type": "markdown",
   "metadata": {},
   "source": [
    "# Mortgage"
   ]
  },
  {
   "cell_type": "code",
   "execution_count": 62,
   "metadata": {},
   "outputs": [
    {
     "data": {
      "text/plain": [
       "3    1156283\n",
       "1     847218\n",
       "0     831988\n",
       "4      15013\n",
       "Name: MORTGAGE, dtype: int64"
      ]
     },
     "execution_count": 62,
     "metadata": {},
     "output_type": "execute_result"
    }
   ],
   "source": [
    "# 0                   N/A\n",
    "# 1                   No, owned free and clear\n",
    "# 2                   Check mark on manuscript (probably yes)\n",
    "# 3                   Yes, mortgaged/ deed of trust or similar debt\n",
    "# 4                   Yes, contract to purchase\n",
    "value_counts_MORTGAGE = df['MORTGAGE'].value_counts()\n",
    "value_counts_MORTGAGE"
   ]
  },
  {
   "cell_type": "markdown",
   "metadata": {},
   "source": [
    "# Sex"
   ]
  },
  {
   "cell_type": "code",
   "execution_count": 63,
   "metadata": {},
   "outputs": [
    {
     "data": {
      "text/plain": [
       "2    1461772\n",
       "1    1388730\n",
       "Name: SEX, dtype: int64"
      ]
     },
     "execution_count": 63,
     "metadata": {},
     "output_type": "execute_result"
    }
   ],
   "source": [
    "# 1                   Male\n",
    "# 2                   Female\n",
    "# 9                   Missing/blank\n",
    "value_counts_SEX = df['SEX'].value_counts()\n",
    "value_counts_SEX"
   ]
  },
  {
   "cell_type": "markdown",
   "metadata": {},
   "source": [
    "# Age"
   ]
  },
  {
   "cell_type": "code",
   "execution_count": 64,
   "metadata": {},
   "outputs": [
    {
     "name": "stdout",
     "output_type": "stream",
     "text": [
      "50.0\n"
     ]
    }
   ],
   "source": [
    "#Checking if this variable is working as intended\n",
    "median_AGE = df['AGE'].median()\n",
    "print(median_AGE)\n",
    "#PASS"
   ]
  },
  {
   "cell_type": "markdown",
   "metadata": {},
   "source": [
    "# MARST (Marital Status)"
   ]
  },
  {
   "cell_type": "code",
   "execution_count": 65,
   "metadata": {},
   "outputs": [
    {
     "data": {
      "text/plain": [
       "1    1382852\n",
       "6     875582\n",
       "4     301831\n",
       "5     185070\n",
       "2      63717\n",
       "3      41450\n",
       "Name: MARST, dtype: int64"
      ]
     },
     "execution_count": 65,
     "metadata": {},
     "output_type": "execute_result"
    }
   ],
   "source": [
    "# 1                   Married, spouse present\n",
    "# 2                   Married, spouse absent\n",
    "# 3                   Separated\n",
    "# 4                   Divorced\n",
    "# 5                   Widowed\n",
    "# 6                   Never married/single\n",
    "# 9                   Blank, missing\n",
    "value_counts_MARST = df['MARST'].value_counts()\n",
    "value_counts_MARST"
   ]
  },
  {
   "cell_type": "markdown",
   "metadata": {},
   "source": [
    "# EDUC (Educational Attainment)"
   ]
  },
  {
   "cell_type": "code",
   "execution_count": 66,
   "metadata": {},
   "outputs": [
    {
     "data": {
      "text/plain": [
       "6     1003224\n",
       "10     556018\n",
       "7      366908\n",
       "11     360991\n",
       "8      230535\n",
       "5       81345\n",
       "4       70671\n",
       "2       61009\n",
       "3       58534\n",
       "0       50420\n",
       "1       10847\n",
       "Name: EDUC, dtype: int64"
      ]
     },
     "execution_count": 66,
     "metadata": {},
     "output_type": "execute_result"
    }
   ],
   "source": [
    "# 00                  N/A or no schooling\n",
    "# 01                  Nursery school to grade 4\n",
    "# 02                  Grade 5, 6, 7, or 8\n",
    "# 03                  Grade 9\n",
    "# 04                  Grade 10\n",
    "# 05                  Grade 11\n",
    "# 06                  Grade 12\n",
    "# 07                  1 year of college\n",
    "# 08                  2 years of college\n",
    "# 09                  3 years of college\n",
    "# 10                  4 years of college\n",
    "# 11                  5+ years of college\n",
    "# 99                  Missing\n",
    "value_counts_EDUC = df['EDUC'].value_counts()\n",
    "value_counts_EDUC"
   ]
  },
  {
   "cell_type": "markdown",
   "metadata": {},
   "source": [
    "# SCHLTYPE (School Type)"
   ]
  },
  {
   "cell_type": "code",
   "execution_count": 67,
   "metadata": {},
   "outputs": [
    {
     "data": {
      "text/plain": [
       "1    2495007\n",
       "2     274184\n",
       "3      81311\n",
       "Name: SCHLTYPE, dtype: int64"
      ]
     },
     "execution_count": 67,
     "metadata": {},
     "output_type": "execute_result"
    }
   ],
   "source": [
    "# 0                   N/A\n",
    "# 1                   Not enrolled\n",
    "# 2                   Public school\n",
    "# 3                   Private school (1960,1990-2000,ACS,PRCS)\n",
    "# 4                   Church-related (1980)\n",
    "# 5                   Parochial (1970)\n",
    "# 6                   Other private, 1980\n",
    "# 7                   Other private, 1970\n",
    "value_counts_SCHLTYPE = df['SCHLTYPE'].value_counts()\n",
    "value_counts_SCHLTYPE"
   ]
  },
  {
   "cell_type": "markdown",
   "metadata": {},
   "source": [
    "# OCC2010 (Occupation)"
   ]
  },
  {
   "cell_type": "code",
   "execution_count": 68,
   "metadata": {},
   "outputs": [
    {
     "data": {
      "text/plain": [
       "9920    853596\n",
       "430      66809\n",
       "4700     46543\n",
       "3130     46278\n",
       "9130     44366\n",
       "         ...  \n",
       "8850       125\n",
       "3900       117\n",
       "5340       110\n",
       "6740       104\n",
       "8910        94\n",
       "Name: OCC2010, Length: 427, dtype: int64"
      ]
     },
     "execution_count": 68,
     "metadata": {},
     "output_type": "execute_result"
    }
   ],
   "source": [
    "value_counts_OCC2010= df['OCC2010'].value_counts()\n",
    "value_counts_OCC2010"
   ]
  },
  {
   "cell_type": "markdown",
   "metadata": {},
   "source": [
    "# VETSTAT (Veteran Status)"
   ]
  },
  {
   "cell_type": "code",
   "execution_count": 69,
   "metadata": {},
   "outputs": [
    {
     "data": {
      "text/plain": [
       "1    2576515\n",
       "2     192112\n",
       "0      81875\n",
       "Name: VETSTAT, dtype: int64"
      ]
     },
     "execution_count": 69,
     "metadata": {},
     "output_type": "execute_result"
    }
   ],
   "source": [
    "# 0                   N/A\n",
    "# 1                   Not a veteran\n",
    "# 2                   Veteran\n",
    "# 9                   Unknown\n",
    "value_counts_VETSTAT= df['VETSTAT'].value_counts()\n",
    "value_counts_VETSTAT"
   ]
  },
  {
   "cell_type": "markdown",
   "metadata": {},
   "source": [
    "# INCTOT (Total Income)"
   ]
  },
  {
   "cell_type": "code",
   "execution_count": 70,
   "metadata": {},
   "outputs": [
    {
     "name": "stdout",
     "output_type": "stream",
     "text": [
      "The mean total income of this dataset is 49422.73825908559.\n",
      "The median total income of this dataset is 30000.0.\n"
     ]
    }
   ],
   "source": [
    "mean_INCTOT = df['INCTOT'].mean()\n",
    "median_INCTOT = df['INCTOT'].median()\n",
    "print(f\"The mean total income of this dataset is {mean_INCTOT}.\")\n",
    "print(f\"The median total income of this dataset is {median_INCTOT}.\")"
   ]
  }
 ],
 "metadata": {
  "kernelspec": {
   "display_name": "Python 3",
   "language": "python",
   "name": "python3"
  },
  "language_info": {
   "codemirror_mode": {
    "name": "ipython",
    "version": 3
   },
   "file_extension": ".py",
   "mimetype": "text/x-python",
   "name": "python",
   "nbconvert_exporter": "python",
   "pygments_lexer": "ipython3",
   "version": "3.10.5"
  }
 },
 "nbformat": 4,
 "nbformat_minor": 2
}
