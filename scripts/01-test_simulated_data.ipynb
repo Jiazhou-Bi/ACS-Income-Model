{
 "cells": [
  {
   "cell_type": "code",
   "execution_count": null,
   "metadata": {},
   "outputs": [],
   "source": [
    "#### Preamble ####\n",
    "# Purpose: Tests the simulated IPUMS USA dataset for structure, valid ranges,\n",
    "#          logical consistency, and completeness.\n",
    "# Author: Jiazhou(Justin) Bi and Weiyang Li\n",
    "# Date: 17 November 2024\n",
    "# Contact: justin.bi@mail.utoronto.ca or weiyang.li@mail.utoronto.ca\n",
    "# License: MIT\n",
    "#\n",
    "# Pre-requisites:\n",
    "#  - Installed Python libraries: pandas, pytest, numpy\n",
    "#  - Simulated dataset saved as 'simulated_ipums_data.csv' in the \n",
    "#    'data/00-simulated_data/' directory.\n",
    "#  - Familiarity with IPUMS USA data structure and types.\n",
    "#\n",
    "# Additional Information:\n",
    "#  - Tests include checking for valid ranges, logical relationships, and\n",
    "#    the presence of missing or invalid values in key fields.\n",
    "#  - Ensure that the simulated data conforms to expected structures for \n",
    "#    downstream analysis."
   ]
  },
  {
   "cell_type": "code",
   "execution_count": 9,
   "metadata": {},
   "outputs": [
    {
     "name": "stdout",
     "output_type": "stream",
     "text": [
      "All tests passed!\n"
     ]
    }
   ],
   "source": [
    "#### Workspace setup ####\n",
    "\n",
    "import pandas as pd\n",
    "import numpy as np\n",
    "\n",
    "#### Load data ####\n",
    "\n",
    "# Load the simulated dataset\n",
    "file_path = '../data/00-simulated_data/simulated_ipums_data.csv'\n",
    "data = pd.read_csv(file_path)\n",
    "\n",
    "#### Test data ####\n",
    "\n",
    "# Test 1: Column presence\n",
    "def test_column_presence():\n",
    "    \"\"\"Check if all required columns are present.\"\"\"\n",
    "    required_columns = ['STATEICP', 'OWNERSHP', 'MORTGAGE', 'GQ', 'SEX', 'AGE', \n",
    "                        'MARST', 'EDUC', 'SCHLTYPE', 'OCC2010', 'VETSTAT', \n",
    "                        'IND1990', 'INCTOT']\n",
    "    assert all(column in data.columns for column in required_columns), \"Missing columns in the dataset.\"\n",
    "\n",
    "# Test 2: Valid ranges\n",
    "def test_valid_ranges():\n",
    "    \"\"\"Check if numerical columns fall within valid ranges.\"\"\"\n",
    "    assert data['STATEICP'].between(1, 56).all(), \"Invalid state codes.\"\n",
    "    assert data['OWNERSHP'].isin([1, 2]).all(), \"Invalid ownership values.\"\n",
    "    assert data['MORTGAGE'].isin([0, 1, 2, 3, 4]).all(), \"Invalid mortgage values.\"\n",
    "    assert data['GQ'].isin([1, 2, 3, 5]).all(), \"Invalid group quarters values.\"\n",
    "    assert data['SEX'].isin([1, 2, 9]).all(), \"Invalid sex values.\"\n",
    "    assert data['AGE'].between(0, 100).all(), \"Invalid age values.\"\n",
    "    assert data['MARST'].isin([1, 2, 3, 4, 5, 6]).all(), \"Invalid marital status values.\"\n",
    "    assert data['SCHLTYPE'].isin([0, 1, 2]).all(), \"Invalid school type values.\"\n",
    "    assert data['INCTOT'].ge(0).all(), \"Income cannot be negative.\"\n",
    "\n",
    "# Test 3: Logical consistency\n",
    "def test_logical_consistency():\n",
    "    \"\"\"Check for logical consistency between columns.\"\"\"\n",
    "    # If OWNERSHP is 2 (rented), then MORTGAGE should be 0 (not applicable)\n",
    "    rented_units = data[data['OWNERSHP'] == 2]\n",
    "    inconsistent_rows = rented_units[rented_units['MORTGAGE'] != 0]\n",
    "    assert len(inconsistent_rows) == 0, f\"Inconsistent mortgage data found for rented units: {inconsistent_rows}\"\n",
    "\n",
    "# Test 4: Missing values\n",
    "def test_missing_values():\n",
    "    \"\"\"Check for missing values in key columns.\"\"\"\n",
    "    key_columns = ['STATEICP', 'SEX', 'AGE', 'INCTOT']\n",
    "    assert data[key_columns].notnull().all().all(), \"Missing values in key columns.\"\n",
    "\n",
    "# Run all tests\n",
    "if __name__ == \"__main__\":\n",
    "    try:\n",
    "        test_column_presence()\n",
    "        test_valid_ranges()\n",
    "        test_logical_consistency()\n",
    "        test_missing_values()\n",
    "        print(\"All tests passed!\")\n",
    "    except AssertionError as e:\n",
    "        print(f\"Test failed: {e}\")"
   ]
  }
 ],
 "metadata": {
  "kernelspec": {
   "display_name": "Python 3",
   "language": "python",
   "name": "python3"
  },
  "language_info": {
   "codemirror_mode": {
    "name": "ipython",
    "version": 3
   },
   "file_extension": ".py",
   "mimetype": "text/x-python",
   "name": "python",
   "nbconvert_exporter": "python",
   "pygments_lexer": "ipython3",
   "version": "3.8.5"
  }
 },
 "nbformat": 4,
 "nbformat_minor": 2
}
