{
 "cells": [
  {
   "cell_type": "code",
   "execution_count": 1,
   "metadata": {},
   "outputs": [],
   "source": [
    "#### Preamble ####\n",
    "# Purpose: Cleans and saves the data from IPUMS USA\n",
    "# Author: Jiazhou(Justin) Bi and Weiyang Li\n",
    "# Date: 3 October 2024\n",
    "# Contact: justin.bi@mail.utoronto.ca or weiyang.li@mail.utoronto.ca\n",
    "# License: MIT\n",
    "# Pre-requisites: python 3.10.5 or above, with pandas installed for python\n",
    "# Any other information needed? None"
   ]
  },
  {
   "cell_type": "markdown",
   "metadata": {},
   "source": [
    "# Loading the data"
   ]
  },
  {
   "cell_type": "code",
   "execution_count": 30,
   "metadata": {},
   "outputs": [],
   "source": [
    "import pandas as pd"
   ]
  },
  {
   "cell_type": "code",
   "execution_count": 33,
   "metadata": {},
   "outputs": [
    {
     "name": "stdout",
     "output_type": "stream",
     "text": [
      "   YEAR  SAMPLE  SERIAL       CBSERIAL  HHWT        CLUSTER  STATEICP  CITY  \\\n",
      "0  2022  202201       1  2022010000031  69.0  2022000000011        41     0   \n",
      "1  2022  202201       2  2022010000111  22.0  2022000000021        41     0   \n",
      "2  2022  202201       3  2022010000200  45.0  2022000000031        41     0   \n",
      "3  2022  202201       4  2022010000261   4.0  2022000000041        41     0   \n",
      "4  2022  202201       5  2022010000296  47.0  2022000000051        41     0   \n",
      "\n",
      "   STRATA  GQ  ...  SEX  AGE  MARST  EDUC  EDUCD  SCHLTYPE  OCC2010  INCTOT  \\\n",
      "0  280301   3  ...    2   85      5     7     71         1     9920   18800   \n",
      "1  200001   3  ...    1   51      5     6     64         1     5620   12500   \n",
      "2  280301   3  ...    2   36      6     2     26         1     8800   16400   \n",
      "3  110001   4  ...    1   74      6     0      2         1     9920    8600   \n",
      "4  150201   3  ...    1   49      4     7     71         1     6230    5000   \n",
      "\n",
      "   VETSTAT  VETSTATD  \n",
      "0        1        11  \n",
      "1        1        11  \n",
      "2        1        11  \n",
      "3        1        11  \n",
      "4        2        20  \n",
      "\n",
      "[5 rows x 25 columns]\n"
     ]
    }
   ],
   "source": [
    "#Loading the dataset as DataFrame\n",
    "df = pd.read_csv('../data/01-raw_data/raw_data.csv.gz')\n",
    "print(df.head())"
   ]
  },
  {
   "cell_type": "code",
   "execution_count": 19,
   "metadata": {},
   "outputs": [],
   "source": [
    "#Checking our sample size\n",
    "#print(df.shape)\n",
    "#(3373378, 25)"
   ]
  },
  {
   "cell_type": "markdown",
   "metadata": {},
   "source": [
    "# Dropping Columns"
   ]
  },
  {
   "cell_type": "code",
   "execution_count": 34,
   "metadata": {},
   "outputs": [
    {
     "name": "stdout",
     "output_type": "stream",
     "text": [
      "   STATEICP  CITY  GQ  OWNERSHP  MORTGAGE  SEX  AGE  MARST  EDUC  SCHLTYPE  \\\n",
      "0        41     0   3         0         0    2   85      5     7         1   \n",
      "1        41     0   3         0         0    1   51      5     6         1   \n",
      "2        41     0   3         0         0    2   36      6     2         1   \n",
      "3        41     0   4         0         0    1   74      6     0         1   \n",
      "4        41     0   3         0         0    1   49      4     7         1   \n",
      "\n",
      "   OCC2010  INCTOT  VETSTAT  \n",
      "0     9920   18800        1  \n",
      "1     5620   12500        1  \n",
      "2     8800   16400        1  \n",
      "3     9920    8600        1  \n",
      "4     6230    5000        2  \n"
     ]
    }
   ],
   "source": [
    "df = df.drop(columns=['YEAR','SAMPLE','SERIAL','CBSERIAL','HHWT','CLUSTER','STRATA','OWNERSHPD','PERWT','EDUCD','VETSTATD','PERNUM'])\n",
    "print(df.head())"
   ]
  },
  {
   "cell_type": "markdown",
   "metadata": {},
   "source": [
    "# Data Validation"
   ]
  },
  {
   "cell_type": "code",
   "execution_count": 22,
   "metadata": {},
   "outputs": [],
   "source": [
    "# missing_values = df.isnull().sum()\n",
    "# print(missing_values)\n",
    "#PASS. No missing values found in this dataset."
   ]
  },
  {
   "cell_type": "markdown",
   "metadata": {},
   "source": [
    "# Changing to Correct Data Types"
   ]
  },
  {
   "cell_type": "code",
   "execution_count": 36,
   "metadata": {},
   "outputs": [
    {
     "data": {
      "text/plain": [
       "STATEICP    object\n",
       "CITY        object\n",
       "GQ          object\n",
       "OWNERSHP    object\n",
       "MORTGAGE    object\n",
       "SEX         object\n",
       "AGE          int64\n",
       "MARST       object\n",
       "EDUC        object\n",
       "SCHLTYPE    object\n",
       "OCC2010     object\n",
       "INCTOT       int64\n",
       "VETSTAT     object\n",
       "dtype: object"
      ]
     },
     "execution_count": 36,
     "metadata": {},
     "output_type": "execute_result"
    }
   ],
   "source": [
    "df.dtypes\n",
    "# STATEICP    object\n",
    "# CITY        object\n",
    "# GQ          object\n",
    "# OWNERSHP    object\n",
    "# MORTGAGE    object\n",
    "# SEX         object\n",
    "# AGE          int64\n",
    "# MARST       object\n",
    "# EDUC        object\n",
    "# SCHLTYPE    object\n",
    "# OCC2010     object\n",
    "# INCTOT       int64\n",
    "# VETSTAT     object\n",
    "# dtype: object"
   ]
  },
  {
   "cell_type": "code",
   "execution_count": 35,
   "metadata": {},
   "outputs": [],
   "source": [
    "df['STATEICP']=df['STATEICP'].astype('str')\n",
    "df['CITY']=df['CITY'].astype('str')\n",
    "df['GQ']=df['GQ'].astype('str')\n",
    "df['OWNERSHP']=df['OWNERSHP'].astype('str')\n",
    "df['MORTGAGE']=df['MORTGAGE'].astype('str')\n",
    "df['SEX']=df['SEX'].astype('str')\n",
    "df['MARST']=df['MARST'].astype('str')\n",
    "df['EDUC']=df['EDUC'].astype('str')\n",
    "df['SCHLTYPE']=df['SCHLTYPE'].astype('str')\n",
    "df['OCC2010']=df['OCC2010'].astype('str')\n",
    "df['VETSTAT']=df['VETSTAT'].astype('str')"
   ]
  },
  {
   "cell_type": "markdown",
   "metadata": {},
   "source": [
    "# Saving the DataFrame as a csv file"
   ]
  },
  {
   "cell_type": "code",
   "execution_count": 37,
   "metadata": {},
   "outputs": [],
   "source": [
    "df.to_csv('../data/02-analysis_data/cleaned_data.csv', index=False)"
   ]
  }
 ],
 "metadata": {
  "kernelspec": {
   "display_name": "Python 3",
   "language": "python",
   "name": "python3"
  },
  "language_info": {
   "codemirror_mode": {
    "name": "ipython",
    "version": 3
   },
   "file_extension": ".py",
   "mimetype": "text/x-python",
   "name": "python",
   "nbconvert_exporter": "python",
   "pygments_lexer": "ipython3",
   "version": "3.10.5"
  }
 },
 "nbformat": 4,
 "nbformat_minor": 2
}
