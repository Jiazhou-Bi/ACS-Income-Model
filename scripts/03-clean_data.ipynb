{
 "cells": [
  {
   "cell_type": "code",
   "execution_count": 1,
   "metadata": {},
   "outputs": [],
   "source": [
    "#### Preamble ####\n",
    "# Purpose: Cleans and saves the data from IPUMS USA\n",
    "# Author: Jiazhou(Justin) Bi and Weiyang Li\n",
    "# Date: 3 October 2024\n",
    "# Contact: justin.bi@mail.utoronto.ca or weiyang.li@mail.utoronto.ca\n",
    "# License: MIT\n",
    "# Pre-requisites: python 3.10.5 or above, with pandas installed for python\n",
    "# Any other information needed? None"
   ]
  },
  {
   "cell_type": "markdown",
   "metadata": {},
   "source": [
    "# Loading the data"
   ]
  },
  {
   "cell_type": "code",
   "execution_count": 2,
   "metadata": {},
   "outputs": [],
   "source": [
    "import pandas as pd"
   ]
  },
  {
   "cell_type": "code",
   "execution_count": 3,
   "metadata": {},
   "outputs": [
    {
     "name": "stdout",
     "output_type": "stream",
     "text": [
      "   YEAR  SAMPLE  SERIAL       CBSERIAL  HHWT        CLUSTER  STRATA  GQ  \\\n",
      "0  2022  202201       1  2022010000031  69.0  2022000000011  280301   3   \n",
      "1  2022  202201       2  2022010000111  22.0  2022000000021  200001   3   \n",
      "2  2022  202201       3  2022010000200  45.0  2022000000031  280301   3   \n",
      "3  2022  202201       4  2022010000261   4.0  2022000000041  110001   4   \n",
      "4  2022  202201       5  2022010000296  47.0  2022000000051  150201   3   \n",
      "\n",
      "   PERNUM  PERWT  SEX  AGE  MARST  EDUC  EDUCD  SCHLTYPE  OCC2010  INCTOT  \n",
      "0       1   69.0    2   85      5     7     71         1     9920   18800  \n",
      "1       1   22.0    1   51      5     6     64         1     5620   12500  \n",
      "2       1   45.0    2   36      6     2     26         1     8800   16400  \n",
      "3       1    4.0    1   74      6     0      2         1     9920    8600  \n",
      "4       1   47.0    1   49      4     7     71         1     6230    5000  \n"
     ]
    }
   ],
   "source": [
    "#Loading the dataset as DataFrame\n",
    "df = pd.read_csv('../data/01-raw_data/raw_data.csv.gz')\n",
    "print(df.head())"
   ]
  },
  {
   "cell_type": "code",
   "execution_count": 4,
   "metadata": {},
   "outputs": [
    {
     "name": "stdout",
     "output_type": "stream",
     "text": [
      "(3373378, 18)\n"
     ]
    }
   ],
   "source": [
    "#Checking our sample size\n",
    "print(df.shape)\n",
    "#(3373378, 18)"
   ]
  },
  {
   "cell_type": "code",
   "execution_count": 5,
   "metadata": {},
   "outputs": [
    {
     "data": {
      "text/plain": [
       "array([ 1,  2,  3,  4,  5,  6,  7,  8,  9, 10, 11, 12, 13, 14, 15, 16, 17,\n",
       "       18, 19, 20])"
      ]
     },
     "execution_count": 5,
     "metadata": {},
     "output_type": "execute_result"
    }
   ],
   "source": [
    "unique_year = df['PERNUM'].unique()\n",
    "unique_year"
   ]
  },
  {
   "cell_type": "markdown",
   "metadata": {},
   "source": [
    "# Dropping Columns"
   ]
  },
  {
   "cell_type": "code",
   "execution_count": 6,
   "metadata": {},
   "outputs": [
    {
     "name": "stdout",
     "output_type": "stream",
     "text": [
      "         CLUSTER  STRATA  GQ  PERWT  SEX  AGE  MARST  EDUC  EDUCD  SCHLTYPE  \\\n",
      "0  2022000000011  280301   3   69.0    2   85      5     7     71         1   \n",
      "1  2022000000021  200001   3   22.0    1   51      5     6     64         1   \n",
      "2  2022000000031  280301   3   45.0    2   36      6     2     26         1   \n",
      "3  2022000000041  110001   4    4.0    1   74      6     0      2         1   \n",
      "4  2022000000051  150201   3   47.0    1   49      4     7     71         1   \n",
      "\n",
      "   OCC2010  INCTOT  \n",
      "0     9920   18800  \n",
      "1     5620   12500  \n",
      "2     8800   16400  \n",
      "3     9920    8600  \n",
      "4     6230    5000  \n"
     ]
    }
   ],
   "source": [
    "df = df.drop(columns=['YEAR','SAMPLE','SERIAL','CBSERIAL','HHWT','PERNUM',])\n",
    "print(df.head())"
   ]
  },
  {
   "cell_type": "markdown",
   "metadata": {},
   "source": [
    "# Data Validation"
   ]
  },
  {
   "cell_type": "code",
   "execution_count": 7,
   "metadata": {},
   "outputs": [
    {
     "name": "stdout",
     "output_type": "stream",
     "text": [
      "CLUSTER     0\n",
      "STRATA      0\n",
      "GQ          0\n",
      "PERWT       0\n",
      "SEX         0\n",
      "AGE         0\n",
      "MARST       0\n",
      "EDUC        0\n",
      "EDUCD       0\n",
      "SCHLTYPE    0\n",
      "OCC2010     0\n",
      "INCTOT      0\n",
      "dtype: int64\n"
     ]
    }
   ],
   "source": [
    "missing_values = df.isnull().sum()\n",
    "print(missing_values)\n",
    "#PASS. No missing values found in this dataset."
   ]
  },
  {
   "cell_type": "markdown",
   "metadata": {},
   "source": [
    "# Saving the DataFrame as a csv file"
   ]
  },
  {
   "cell_type": "code",
   "execution_count": 8,
   "metadata": {},
   "outputs": [],
   "source": [
    "df.to_csv('../data/02-analysis_data/cleaned_data.csv', index=False)"
   ]
  }
 ],
 "metadata": {
  "kernelspec": {
   "display_name": "Python 3",
   "language": "python",
   "name": "python3"
  },
  "language_info": {
   "codemirror_mode": {
    "name": "ipython",
    "version": 3
   },
   "file_extension": ".py",
   "mimetype": "text/x-python",
   "name": "python",
   "nbconvert_exporter": "python",
   "pygments_lexer": "ipython3",
   "version": "3.10.5"
  }
 },
 "nbformat": 4,
 "nbformat_minor": 2
}
