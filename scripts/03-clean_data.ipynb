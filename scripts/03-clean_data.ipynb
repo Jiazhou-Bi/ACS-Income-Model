{
 "cells": [
  {
   "cell_type": "code",
   "execution_count": 53,
   "metadata": {},
   "outputs": [],
   "source": [
    "#### Preamble ####\n",
    "# Purpose: Cleans and saves the data from IPUMS USA\n",
    "# Author: Jiazhou(Justin) Bi and Weiyang Li\n",
    "# Date: 3 October 2024\n",
    "# Contact: justin.bi@mail.utoronto.ca or weiyang.li@mail.utoronto.ca\n",
    "# License: MIT\n",
    "# Pre-requisites: python 3.10.5 or above, with pandas installed for python\n",
    "# Any other information needed? None"
   ]
  },
  {
   "cell_type": "markdown",
   "metadata": {},
   "source": [
    "# Loading the data"
   ]
  },
  {
   "cell_type": "code",
   "execution_count": 73,
   "metadata": {},
   "outputs": [],
   "source": [
    "import pandas as pd"
   ]
  },
  {
   "cell_type": "code",
   "execution_count": 74,
   "metadata": {},
   "outputs": [
    {
     "name": "stdout",
     "output_type": "stream",
     "text": [
      "   YEAR  SAMPLE  SERIAL       CBSERIAL  HHWT        CLUSTER  STATEICP  CITY  \\\n",
      "0  2022  202201       1  2022010000031  69.0  2022000000011        41     0   \n",
      "1  2022  202201       2  2022010000111  22.0  2022000000021        41     0   \n",
      "2  2022  202201       3  2022010000200  45.0  2022000000031        41     0   \n",
      "3  2022  202201       4  2022010000261   4.0  2022000000041        41     0   \n",
      "4  2022  202201       5  2022010000296  47.0  2022000000051        41     0   \n",
      "\n",
      "   STRATA  GQ  ...  AGE  MARST  EDUC  EDUCD  SCHLTYPE  OCC2010  IND1990  \\\n",
      "0  280301   3  ...   85      5     7     71         1     9920        0   \n",
      "1  200001   3  ...   51      5     6     64         1     5620      591   \n",
      "2  280301   3  ...   36      6     2     26         1     8800      100   \n",
      "3  110001   4  ...   74      6     0      2         1     9920        0   \n",
      "4  150201   3  ...   49      4     7     71         1     6230       60   \n",
      "\n",
      "   INCTOT  VETSTAT  VETSTATD  \n",
      "0   18800        1        11  \n",
      "1   12500        1        11  \n",
      "2   16400        1        11  \n",
      "3    8600        1        11  \n",
      "4    5000        2        20  \n",
      "\n",
      "[5 rows x 26 columns]\n"
     ]
    }
   ],
   "source": [
    "#Loading the dataset as DataFrame\n",
    "df = pd.read_csv('../data/01-raw_data/raw_data.csv.gz')\n",
    "print(df.head())"
   ]
  },
  {
   "cell_type": "code",
   "execution_count": 64,
   "metadata": {},
   "outputs": [
    {
     "name": "stdout",
     "output_type": "stream",
     "text": [
      "(3373378, 25)\n"
     ]
    }
   ],
   "source": [
    "#Checking our sample size\n",
    "#print(df.shape)\n",
    "#(3373378, 25)"
   ]
  },
  {
   "cell_type": "markdown",
   "metadata": {},
   "source": [
    "# Dropping Columns"
   ]
  },
  {
   "cell_type": "code",
   "execution_count": 75,
   "metadata": {},
   "outputs": [
    {
     "name": "stdout",
     "output_type": "stream",
     "text": [
      "   STATEICP  GQ  OWNERSHP  MORTGAGE  SEX  AGE  MARST  EDUC  SCHLTYPE  OCC2010  \\\n",
      "0        41   3         0         0    2   85      5     7         1     9920   \n",
      "1        41   3         0         0    1   51      5     6         1     5620   \n",
      "2        41   3         0         0    2   36      6     2         1     8800   \n",
      "3        41   4         0         0    1   74      6     0         1     9920   \n",
      "4        41   3         0         0    1   49      4     7         1     6230   \n",
      "\n",
      "   IND1990  INCTOT  VETSTAT  \n",
      "0        0   18800        1  \n",
      "1      591   12500        1  \n",
      "2      100   16400        1  \n",
      "3        0    8600        1  \n",
      "4       60    5000        2  \n"
     ]
    }
   ],
   "source": [
    "df = df.drop(columns=['YEAR','SAMPLE','SERIAL','CBSERIAL','HHWT','CLUSTER','STRATA','OWNERSHPD','PERWT','EDUCD','VETSTATD','PERNUM','CITY'])\n",
    "print(df.head())"
   ]
  },
  {
   "cell_type": "markdown",
   "metadata": {},
   "source": [
    "# Data Validation"
   ]
  },
  {
   "cell_type": "code",
   "execution_count": 76,
   "metadata": {},
   "outputs": [],
   "source": [
    "# missing_values = df.isnull().sum()\n",
    "# print(missing_values)\n",
    "#PASS. No missing values found in this dataset."
   ]
  },
  {
   "cell_type": "markdown",
   "metadata": {},
   "source": [
    "# Changing to Correct Data Types"
   ]
  },
  {
   "cell_type": "code",
   "execution_count": 77,
   "metadata": {},
   "outputs": [
    {
     "data": {
      "text/plain": [
       "STATEICP    int64\n",
       "GQ          int64\n",
       "OWNERSHP    int64\n",
       "MORTGAGE    int64\n",
       "SEX         int64\n",
       "AGE         int64\n",
       "MARST       int64\n",
       "EDUC        int64\n",
       "SCHLTYPE    int64\n",
       "OCC2010     int64\n",
       "IND1990     int64\n",
       "INCTOT      int64\n",
       "VETSTAT     int64\n",
       "dtype: object"
      ]
     },
     "execution_count": 77,
     "metadata": {},
     "output_type": "execute_result"
    }
   ],
   "source": [
    "df.dtypes\n",
    "# STATEICP    object\n",
    "# CITY        object\n",
    "# GQ          object\n",
    "# OWNERSHP    object\n",
    "# MORTGAGE    object\n",
    "# SEX         object\n",
    "# AGE          int64\n",
    "# MARST       object\n",
    "# EDUC        object\n",
    "# SCHLTYPE    object\n",
    "# OCC2010     object\n",
    "# IND1990     int64\n",
    "# INCTOT       int64\n",
    "# VETSTAT     object\n",
    "# dtype: object"
   ]
  },
  {
   "cell_type": "code",
   "execution_count": 78,
   "metadata": {},
   "outputs": [],
   "source": [
    "df['STATEICP']=df['STATEICP'].astype('str')\n",
    "#The below variable was dropped because it has a lot of missing values.\n",
    "#df['CITY']=df['CITY'].astype('str')\n",
    "df['GQ']=df['GQ'].astype('str')\n",
    "df['OWNERSHP']=df['OWNERSHP'].astype('str')\n",
    "df['MORTGAGE']=df['MORTGAGE'].astype('str')\n",
    "df['SEX']=df['SEX'].astype('str')\n",
    "df['MARST']=df['MARST'].astype('str')\n",
    "df['EDUC']=df['EDUC'].astype('str')\n",
    "df['SCHLTYPE']=df['SCHLTYPE'].astype('str')\n",
    "df['OCC2010']=df['OCC2010'].astype('str')\n",
    "df['IND1990']=df['IND1990'].astype('str')\n",
    "df['VETSTAT']=df['VETSTAT'].astype('str')\n",
    "df['INCTOT']=df['INCTOT'].astype('str')"
   ]
  },
  {
   "cell_type": "markdown",
   "metadata": {},
   "source": [
    "# Dropping Income that does not reflect actual income numbers"
   ]
  },
  {
   "cell_type": "code",
   "execution_count": 81,
   "metadata": {},
   "outputs": [
    {
     "data": {
      "text/plain": [
       "(2850502, 13)"
      ]
     },
     "execution_count": 81,
     "metadata": {},
     "output_type": "execute_result"
    }
   ],
   "source": [
    "# INCTOT Specific Variable Codes\n",
    "# -009995 = -$9,900 (1980)\n",
    "# -000001 = Net loss (1950)\n",
    "# 0000000 = None\n",
    "# 0000001 = $1 or break even (2000, 2005-onward ACS and PRCS)\n",
    "# 9999999 = N/A\n",
    "# 9999998 = Unknown\n",
    "# We will drop all the values above.\n",
    "df = df[~df['INCTOT'].isin(['-009995', '-000001', '0000000', '0000001', '9999999', '9999998'])]\n",
    "df['INCTOT']=df['INCTOT'].astype('int')\n",
    "df.shape\n",
    "#(2850502, 12)"
   ]
  },
  {
   "cell_type": "markdown",
   "metadata": {},
   "source": [
    "# Saving the DataFrame as a csv file"
   ]
  },
  {
   "cell_type": "code",
   "execution_count": 82,
   "metadata": {},
   "outputs": [],
   "source": [
    "df.to_csv('../data/02-analysis_data/cleaned_data.csv', index=False)"
   ]
  }
 ],
 "metadata": {
  "kernelspec": {
   "display_name": "Python 3",
   "language": "python",
   "name": "python3"
  },
  "language_info": {
   "codemirror_mode": {
    "name": "ipython",
    "version": 3
   },
   "file_extension": ".py",
   "mimetype": "text/x-python",
   "name": "python",
   "nbconvert_exporter": "python",
   "pygments_lexer": "ipython3",
   "version": "3.10.5"
  }
 },
 "nbformat": 4,
 "nbformat_minor": 2
}
