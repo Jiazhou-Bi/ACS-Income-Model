{
 "cells": [
  {
   "cell_type": "code",
   "execution_count": 4,
   "metadata": {},
   "outputs": [
    {
     "name": "stdout",
     "output_type": "stream",
     "text": [
      "   YEAR  SAMPLE  SERIAL       CBSERIAL  HHWT        CLUSTER  STRATA  GQ  \\\n",
      "0  2022  202201       1  2022010000031  69.0  2022000000011  280301   3   \n",
      "1  2022  202201       2  2022010000111  22.0  2022000000021  200001   3   \n",
      "2  2022  202201       3  2022010000200  45.0  2022000000031  280301   3   \n",
      "3  2022  202201       4  2022010000261   4.0  2022000000041  110001   4   \n",
      "4  2022  202201       5  2022010000296  47.0  2022000000051  150201   3   \n",
      "\n",
      "   PERNUM  PERWT  SEX  AGE  MARST  EDUC  EDUCD  SCHLTYPE  OCC2010  INCTOT  \n",
      "0       1   69.0    2   85      5     7     71         1     9920   18800  \n",
      "1       1   22.0    1   51      5     6     64         1     5620   12500  \n",
      "2       1   45.0    2   36      6     2     26         1     8800   16400  \n",
      "3       1    4.0    1   74      6     0      2         1     9920    8600  \n",
      "4       1   47.0    1   49      4     7     71         1     6230    5000  \n"
     ]
    }
   ],
   "source": [
    "import pandas as pd\n",
    "# Open the .csv.gz file\n",
    "df = pd.read_csv('../data/01-raw_data/raw_data.csv.gz')\n",
    "\n",
    "# Display the first few rows\n",
    "print(df.head())"
   ]
  }
 ],
 "metadata": {
  "kernelspec": {
   "display_name": "Python 3",
   "language": "python",
   "name": "python3"
  },
  "language_info": {
   "codemirror_mode": {
    "name": "ipython",
    "version": 3
   },
   "file_extension": ".py",
   "mimetype": "text/x-python",
   "name": "python",
   "nbconvert_exporter": "python",
   "pygments_lexer": "ipython3",
   "version": "3.10.5"
  }
 },
 "nbformat": 4,
 "nbformat_minor": 2
}
